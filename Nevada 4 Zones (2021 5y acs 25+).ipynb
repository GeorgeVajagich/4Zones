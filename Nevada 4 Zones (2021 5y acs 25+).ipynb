{
 "cells": [
  {
   "cell_type": "code",
   "execution_count": 4,
   "id": "6e6507e9",
   "metadata": {},
   "outputs": [],
   "source": [
    "import pandas as pd"
   ]
  },
  {
   "cell_type": "code",
   "execution_count": 5,
   "id": "ccf90330",
   "metadata": {},
   "outputs": [],
   "source": [
    "EDUdata=pd.read_csv(r\"acs2021_5yr_B16010_14000US32003003247.csv\")"
   ]
  },
  {
   "cell_type": "code",
   "execution_count": 6,
   "id": "dcd0b2a0",
   "metadata": {},
   "outputs": [
    {
     "name": "stdout",
     "output_type": "stream",
     "text": [
      "                  geoid                                 name  B16010001  \\\n",
      "0    14000US32001950100     Census Tract 9501, Churchill, NV       1497   \n",
      "1    14000US32001950301  Census Tract 9503.01, Churchill, NV       2986   \n",
      "2    14000US32001950302  Census Tract 9503.02, Churchill, NV       3460   \n",
      "3    14000US32001950400     Census Tract 9504, Churchill, NV        265   \n",
      "4    14000US32001950500     Census Tract 9505, Churchill, NV        996   \n",
      "..                  ...                                  ...        ...   \n",
      "774  14000US32510000800      Census Tract 8, Carson City, NV       4409   \n",
      "775  14000US32510000900      Census Tract 9, Carson City, NV       4179   \n",
      "776  14000US32510001001  Census Tract 10.01, Carson City, NV       2711   \n",
      "777  14000US32510001002  Census Tract 10.02, Carson City, NV       3057   \n",
      "778  14000US32510990000   Census Tract 9900, Carson City, NV          0   \n",
      "\n",
      "     B16010001, Error  B16010002  B16010002, Error  B16010003  \\\n",
      "0                 174        143                65         86   \n",
      "1                 377        260               161         74   \n",
      "2                 390        195                99        104   \n",
      "3                 152          2                 4          2   \n",
      "4                 134        131                50         73   \n",
      "..                ...        ...               ...        ...   \n",
      "774               572        571               171        130   \n",
      "775               633        638               222        378   \n",
      "776               374        730               208        529   \n",
      "777               526        180                89        124   \n",
      "778                13          0                13          0   \n",
      "\n",
      "     B16010003, Error  B16010004  B16010004, Error  ...  B16010049  \\\n",
      "0                  49         72                45  ...         87   \n",
      "1                  55         74                55  ...        126   \n",
      "2                  84         63                68  ...         25   \n",
      "3                   4          2                 4  ...          0   \n",
      "4                  45         44                22  ...         55   \n",
      "..                ...        ...               ...  ...        ...   \n",
      "774                73         81                61  ...        265   \n",
      "775               164        122                86  ...        149   \n",
      "776               192         51                42  ...         34   \n",
      "777                83         31                25  ...        241   \n",
      "778                13          0                13  ...          0   \n",
      "\n",
      "     B16010049, Error  B16010050  B16010050, Error  B16010051  \\\n",
      "0                  50          7                15          0   \n",
      "1                  60          0                13          0   \n",
      "2                  28          0                19         25   \n",
      "3                  13          0                13          0   \n",
      "4                  31          0                13          2   \n",
      "..                ...        ...               ...        ...   \n",
      "774                85         40                37         12   \n",
      "775                85          0                19          0   \n",
      "776                33          0                13          0   \n",
      "777                76          0                13          0   \n",
      "778                13          0                13          0   \n",
      "\n",
      "     B16010051, Error  B16010052  B16010052, Error  B16010053  \\\n",
      "0                  13          4                 6          0   \n",
      "1                  13          5                 8          0   \n",
      "2                  48          0                19          0   \n",
      "3                  13          0                13          0   \n",
      "4                   3          0                13          8   \n",
      "..                ...        ...               ...        ...   \n",
      "774                15          0                19          0   \n",
      "775                19          0                19          3   \n",
      "776                13          0                13          0   \n",
      "777                13          0                13          0   \n",
      "778                13          0                13          0   \n",
      "\n",
      "     B16010053, Error  \n",
      "0                  13  \n",
      "1                  13  \n",
      "2                  19  \n",
      "3                  13  \n",
      "4                   9  \n",
      "..                ...  \n",
      "774                19  \n",
      "775                 9  \n",
      "776                13  \n",
      "777                13  \n",
      "778                13  \n",
      "\n",
      "[779 rows x 108 columns]\n"
     ]
    }
   ],
   "source": [
    "print(EDUdata)"
   ]
  },
  {
   "cell_type": "code",
   "execution_count": 12,
   "id": "1fe3ebed",
   "metadata": {},
   "outputs": [],
   "source": [
    "pop25Plus=EDUdata[\"B16010001\"]"
   ]
  },
  {
   "cell_type": "code",
   "execution_count": 13,
   "id": "d414e1fd",
   "metadata": {},
   "outputs": [],
   "source": [
    "bachDegreePop25Plus=EDUdata[\"B16010041\"]"
   ]
  },
  {
   "cell_type": "code",
   "execution_count": 14,
   "id": "47ca430f",
   "metadata": {},
   "outputs": [],
   "source": [
    "percentBachDegree25Plus=bachDegreePop25Plus/pop25Plus"
   ]
  },
  {
   "cell_type": "code",
   "execution_count": 15,
   "id": "ccb3d6a6",
   "metadata": {},
   "outputs": [
    {
     "name": "stdout",
     "output_type": "stream",
     "text": [
      "0      0.237141\n",
      "1      0.112190\n",
      "2      0.197977\n",
      "3      0.415094\n",
      "4      0.173695\n",
      "         ...   \n",
      "774    0.153776\n",
      "775    0.124192\n",
      "776    0.035411\n",
      "777    0.329081\n",
      "778         NaN\n",
      "Length: 779, dtype: float64\n"
     ]
    }
   ],
   "source": [
    "print(percentBachDegree25Plus)"
   ]
  },
  {
   "cell_type": "code",
   "execution_count": null,
   "id": "64b050da",
   "metadata": {},
   "outputs": [],
   "source": []
  }
 ],
 "metadata": {
  "kernelspec": {
   "display_name": "Python 3 (ipykernel)",
   "language": "python",
   "name": "python3"
  },
  "language_info": {
   "codemirror_mode": {
    "name": "ipython",
    "version": 3
   },
   "file_extension": ".py",
   "mimetype": "text/x-python",
   "name": "python",
   "nbconvert_exporter": "python",
   "pygments_lexer": "ipython3",
   "version": "3.9.13"
  }
 },
 "nbformat": 4,
 "nbformat_minor": 5
}
