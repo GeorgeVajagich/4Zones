{
 "cells": [
  {
   "cell_type": "code",
   "execution_count": 1,
   "id": "326cedc4",
   "metadata": {},
   "outputs": [],
   "source": [
    "import pandas as pd"
   ]
  },
  {
   "cell_type": "code",
   "execution_count": 2,
   "id": "8fef03da",
   "metadata": {},
   "outputs": [],
   "source": [
    "EDUdata=pd.read_csv(r\"acs2021_5yr_B16010_14000US32003003247.csv\")\n",
    "MARdata=pd.read_csv(r\"acs2021_5yr_B12002_14000US32003003247.csv\")"
   ]
  },
  {
   "cell_type": "code",
   "execution_count": 3,
   "id": "757642d0",
   "metadata": {},
   "outputs": [],
   "source": [
    "pop25Plus=EDUdata[\"B16010001\"]"
   ]
  },
  {
   "cell_type": "code",
   "execution_count": 4,
   "id": "8f3b8b07",
   "metadata": {},
   "outputs": [],
   "source": [
    "bachDegreePop25Plus=EDUdata[\"B16010041\"]"
   ]
  },
  {
   "cell_type": "code",
   "execution_count": 5,
   "id": "2e736f76",
   "metadata": {},
   "outputs": [],
   "source": [
    "percentBachDegree25Plus=bachDegreePop25Plus/pop25Plus"
   ]
  },
  {
   "cell_type": "code",
   "execution_count": 6,
   "id": "ac662118",
   "metadata": {},
   "outputs": [
    {
     "name": "stdout",
     "output_type": "stream",
     "text": [
      "0      0.237141\n",
      "1      0.112190\n",
      "2      0.197977\n",
      "3      0.415094\n",
      "4      0.173695\n",
      "         ...   \n",
      "774    0.153776\n",
      "775    0.124192\n",
      "776    0.035411\n",
      "777    0.329081\n",
      "778         NaN\n",
      "Length: 779, dtype: float64\n"
     ]
    }
   ],
   "source": [
    "print(percentBachDegree25Plus)"
   ]
  },
  {
   "cell_type": "code",
   "execution_count": 7,
   "id": "636f55b4",
   "metadata": {},
   "outputs": [],
   "source": [
    "totalMarried15Plus=MARdata[\"B12002018\"]+MARdata[\"B12002111\"]"
   ]
  },
  {
   "cell_type": "code",
   "execution_count": 8,
   "id": "4e1a0b8e",
   "metadata": {},
   "outputs": [],
   "source": [
    "fifteenToTwentyFourMarried=MARdata[\"B12002020\"]+MARdata[\"B12002021\"]+MARdata[\"B12002022\"]+MARdata[\"B12002036\"]+MARdata[\"B12002037\"]+MARdata[\"B12002038\"]+MARdata[\"B12002051\"]+MARdata[\"B12002052\"]+MARdata[\"B12002053\"]+MARdata[\"B12002113\"]+MARdata[\"B12002114\"]+MARdata[\"B12002115\"]+MARdata[\"B12002129\"]+MARdata[\"B12002130\"]+MARdata[\"B12002131\"]+MARdata[\"B12002144\"]+MARdata[\"B12002145\"]+MARdata[\"B12002146\"]"
   ]
  },
  {
   "cell_type": "code",
   "execution_count": 9,
   "id": "33637b79",
   "metadata": {},
   "outputs": [],
   "source": [
    "marriedPop25Plus=(totalMarried15Plus-fifteenToTwentyFourMarried)"
   ]
  },
  {
   "cell_type": "code",
   "execution_count": 10,
   "id": "d312107d",
   "metadata": {},
   "outputs": [],
   "source": [
    "percentMarried25Plus=marriedPop25Plus/pop25Plus"
   ]
  },
  {
   "cell_type": "code",
   "execution_count": 11,
   "id": "e2a27f0e",
   "metadata": {},
   "outputs": [
    {
     "name": "stdout",
     "output_type": "stream",
     "text": [
      "0      0.580494\n",
      "1      0.444742\n",
      "2      0.493931\n",
      "3      0.864151\n",
      "4      0.461847\n",
      "         ...   \n",
      "774    0.496031\n",
      "775    0.591768\n",
      "776    0.441166\n",
      "777    0.510631\n",
      "778         NaN\n",
      "Length: 779, dtype: float64\n"
     ]
    }
   ],
   "source": [
    "print(percentMarried25Plus)"
   ]
  },
  {
   "cell_type": "code",
   "execution_count": 12,
   "id": "821ddc44",
   "metadata": {},
   "outputs": [],
   "source": [
    "Zone=[]\n",
    "for i in range (0,778):\n",
    "    z=0\n",
    "    if percentMarried25Plus[i]>0.5:\n",
    "        z+=1\n",
    "    if percentBachDegree25Plus[i]>0.5:\n",
    "        z+=2\n",
    "    Zone.append(z)"
   ]
  },
  {
   "cell_type": "code",
   "execution_count": 13,
   "id": "aebafa0c",
   "metadata": {},
   "outputs": [
    {
     "name": "stdout",
     "output_type": "stream",
     "text": [
      "[1, 0, 0, 1, 0, 1, 1, 1, 0, 1, 0, 0, 1, 0, 0, 0, 0, 0, 0, 0, 0, 0, 1, 0, 0, 1, 0, 0, 0, 1, 1, 0, 0, 0, 0, 1, 1, 1, 0, 0, 0, 1, 0, 3, 1, 0, 0, 0, 0, 1, 0, 0, 0, 0, 1, 0, 1, 1, 0, 0, 0, 1, 1, 0, 0, 0, 0, 1, 0, 0, 0, 1, 1, 0, 0, 0, 1, 1, 0, 0, 0, 0, 0, 0, 0, 3, 0, 0, 0, 0, 1, 0, 0, 0, 0, 0, 0, 0, 1, 0, 3, 0, 1, 1, 0, 0, 0, 1, 1, 1, 1, 1, 1, 1, 0, 0, 1, 0, 1, 1, 1, 1, 0, 0, 0, 0, 0, 0, 0, 0, 1, 1, 1, 1, 1, 0, 1, 1, 0, 1, 1, 0, 0, 1, 1, 1, 0, 1, 0, 1, 0, 0, 0, 1, 1, 0, 0, 3, 0, 1, 0, 0, 0, 0, 0, 0, 0, 0, 1, 1, 0, 1, 1, 1, 1, 1, 1, 1, 1, 0, 0, 1, 1, 1, 0, 0, 1, 1, 0, 1, 0, 1, 1, 1, 1, 1, 0, 1, 1, 1, 1, 1, 3, 3, 1, 0, 1, 1, 0, 1, 1, 1, 1, 1, 1, 3, 1, 1, 1, 1, 1, 1, 3, 1, 3, 3, 1, 0, 0, 1, 1, 1, 1, 1, 1, 1, 1, 1, 0, 1, 1, 1, 1, 1, 1, 1, 1, 1, 1, 1, 1, 1, 1, 1, 1, 1, 1, 1, 1, 0, 1, 0, 0, 1, 1, 0, 1, 0, 1, 1, 0, 0, 0, 1, 0, 0, 0, 0, 0, 1, 1, 1, 0, 1, 0, 0, 1, 1, 1, 1, 1, 1, 1, 1, 1, 1, 1, 1, 0, 1, 1, 1, 0, 1, 0, 1, 1, 1, 1, 1, 1, 1, 1, 0, 1, 1, 1, 1, 1, 3, 0, 1, 1, 1, 1, 1, 1, 1, 1, 0, 1, 1, 1, 1, 0, 1, 0, 1, 0, 0, 0, 1, 1, 1, 0, 0, 1, 0, 1, 1, 1, 1, 0, 0, 1, 1, 0, 1, 1, 1, 0, 0, 1, 0, 1, 1, 0, 0, 1, 0, 0, 1, 0, 0, 1, 0, 1, 1, 0, 1, 0, 1, 1, 1, 1, 1, 1, 0, 1, 1, 0, 1, 1, 1, 1, 1, 1, 1, 1, 1, 1, 1, 3, 1, 0, 1, 0, 1, 1, 1, 0, 1, 1, 1, 1, 2, 1, 1, 1, 1, 3, 1, 1, 1, 3, 0, 1, 1, 1, 0, 0, 0, 1, 1, 1, 1, 3, 0, 0, 1, 1, 1, 1, 1, 0, 1, 1, 1, 1, 1, 1, 0, 0, 0, 0, 3, 1, 3, 3, 3, 1, 1, 1, 1, 1, 1, 0, 1, 0, 1, 1, 0, 0, 0, 1, 3, 0, 1, 1, 1, 1, 1, 1, 1, 1, 1, 1, 3, 3, 3, 1, 1, 1, 0, 0, 0, 1, 1, 1, 1, 1, 1, 0, 3, 1, 1, 1, 1, 3, 1, 1, 1, 0, 1, 1, 3, 3, 1, 1, 1, 1, 1, 1, 1, 1, 0, 0, 1, 1, 1, 1, 1, 2, 0, 0, 1, 0, 1, 1, 1, 0, 0, 1, 1, 1, 1, 1, 1, 3, 1, 3, 3, 1, 1, 1, 1, 1, 1, 0, 1, 1, 1, 1, 1, 0, 1, 1, 1, 1, 1, 1, 1, 1, 0, 0, 1, 1, 1, 1, 1, 1, 1, 1, 1, 0, 1, 0, 1, 1, 1, 1, 1, 1, 1, 0, 1, 1, 1, 1, 1, 1, 0, 1, 1, 0, 1, 0, 0, 1, 0, 0, 1, 1, 1, 0, 0, 1, 0, 1, 0, 0, 1, 0, 0, 0, 0, 1, 0, 0, 2, 0, 2, 0, 0, 0, 0, 3, 3, 1, 3, 3, 3, 0, 0, 0, 0, 0, 3, 3, 3, 0, 0, 0, 1, 0, 1, 0, 0, 0, 0, 1, 0, 0, 0, 0, 0, 1, 1, 0, 1, 0, 1, 3, 2, 3, 0, 1, 3, 2, 1, 0, 3, 1, 3, 1, 3, 3, 0, 1, 1, 3, 1, 1, 1, 0, 0, 1, 1, 1, 1, 1, 1, 1, 1, 0, 1, 0, 0, 0, 1, 1, 1, 1, 1, 1, 1, 1, 1, 0, 0, 0, 1, 1, 1, 1, 1, 1, 0, 3, 1, 1, 1, 1, 3, 1, 3, 3, 3, 1, 1, 1, 1, 1, 1, 1, 1, 1, 1, 1, 1, 1, 1, 1, 1, 0, 0, 0, 0, 3, 0, 0, 1, 1, 0, 0, 1, 1, 1, 1, 0, 0, 0, 1, 1, 0, 1, 0, 1]\n"
     ]
    }
   ],
   "source": [
    "print(Zone)"
   ]
  },
  {
   "cell_type": "code",
   "execution_count": null,
   "id": "c716c9c0",
   "metadata": {},
   "outputs": [],
   "source": []
  }
 ],
 "metadata": {
  "kernelspec": {
   "display_name": "Python 3 (ipykernel)",
   "language": "python",
   "name": "python3"
  },
  "language_info": {
   "codemirror_mode": {
    "name": "ipython",
    "version": 3
   },
   "file_extension": ".py",
   "mimetype": "text/x-python",
   "name": "python",
   "nbconvert_exporter": "python",
   "pygments_lexer": "ipython3",
   "version": "3.9.13"
  }
 },
 "nbformat": 4,
 "nbformat_minor": 5
}
